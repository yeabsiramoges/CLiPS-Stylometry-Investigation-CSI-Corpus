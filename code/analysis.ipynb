{
 "cells": [
  {
   "cell_type": "code",
   "execution_count": 1,
   "metadata": {},
   "outputs": [],
   "source": [
    "from helper.constants import *\n",
    "from helper.ORRReview import Review\n",
    "from helper.Translator import Translator\n",
    "from helper.DataLoader import DataLoader\n",
    "from helper.FileProcessor import FileProcessor"
   ]
  },
  {
   "cell_type": "code",
   "execution_count": 2,
   "metadata": {},
   "outputs": [
    {
     "name": "stdout",
     "output_type": "stream",
     "text": [
      "FILE-PROCESSOR: Instantiated.\n",
      "TRANSLATOR: Instantiated (de, en).\n",
      "ORRREVIEW: Instantiated.\n",
      "DATALOADER: Instantiated.\n",
      "DATALOADER: Generating Reviews\n",
      "DATALOADER: Generating Essays\n",
      "DATALOADER: Generating Author Data\n",
      "DATALOADER: Generating Document Data\n"
     ]
    }
   ],
   "source": [
    "# File Utilities \n",
    "fileprocessor = FileProcessor()\n",
    "translator = Translator(DANISH_CODE, ENGLISH_CODE)\n",
    "\n",
    "# Datasets\n",
    "review_data = Review(fileprocessor)\n",
    "data_loader = DataLoader(fileprocessor, translator)"
   ]
  },
  {
   "cell_type": "code",
   "execution_count": 3,
   "metadata": {},
   "outputs": [
    {
     "name": "stdout",
     "output_type": "stream",
     "text": [
      "DATALOADER: Data Loaded.\n",
      "ORRREVIEW: Getting data.\n"
     ]
    }
   ],
   "source": [
    "# Data by AuthorID\n",
    "data = data_loader.get_data()\n",
    "reviews, essays, authors, documents = data\n",
    "\n",
    "# Data by Review + Sentence ID\n",
    "orr_data = review_data.get_data()"
   ]
  }
 ],
 "metadata": {
  "kernelspec": {
   "display_name": "Python 3",
   "language": "python",
   "name": "python3"
  },
  "language_info": {
   "codemirror_mode": {
    "name": "ipython",
    "version": 3
   },
   "file_extension": ".py",
   "mimetype": "text/x-python",
   "name": "python",
   "nbconvert_exporter": "python",
   "pygments_lexer": "ipython3",
   "version": "3.11.4"
  }
 },
 "nbformat": 4,
 "nbformat_minor": 2
}
