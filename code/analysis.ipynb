{
 "cells": [
  {
   "cell_type": "code",
   "execution_count": 1,
   "metadata": {},
   "outputs": [],
   "source": [
    "from utils import *\n",
    "from constants import *"
   ]
  },
  {
   "cell_type": "code",
   "execution_count": 2,
   "metadata": {},
   "outputs": [
    {
     "name": "stdout",
     "output_type": "stream",
     "text": [
      "Instantiating Data Loader\n",
      "Instantiating File Processor\n",
      "Translator Instance Instantiated.\n",
      "Source: de\n",
      "Target: en\n",
      "Generating Reviews\n"
     ]
    },
    {
     "name": "stderr",
     "output_type": "stream",
     "text": [
      "  6%|▌         | 78/1299 [02:05<51:41,  2.54s/it]  "
     ]
    },
    {
     "name": "stdout",
     "output_type": "stream",
     "text": [
      "Empty sequence.\n"
     ]
    },
    {
     "name": "stderr",
     "output_type": "stream",
     "text": [
      " 17%|█▋        | 216/1299 [22:02<1:50:31,  6.12s/it]\n"
     ]
    },
    {
     "ename": "ValueError",
     "evalue": "not enough values to unpack (expected 5, got 2)",
     "output_type": "error",
     "traceback": [
      "\u001b[0;31m---------------------------------------------------------------------------\u001b[0m",
      "\u001b[0;31mValueError\u001b[0m                                Traceback (most recent call last)",
      "Cell \u001b[0;32mIn[2], line 2\u001b[0m\n\u001b[1;32m      1\u001b[0m \u001b[38;5;66;03m# File Utilities \u001b[39;00m\n\u001b[0;32m----> 2\u001b[0m data_loader \u001b[38;5;241m=\u001b[39m \u001b[43mDataLoader\u001b[49m\u001b[43m(\u001b[49m\u001b[43m)\u001b[49m\n\u001b[1;32m      3\u001b[0m file_processor \u001b[38;5;241m=\u001b[39m FileProcessor()\n\u001b[1;32m      5\u001b[0m \u001b[38;5;66;03m# Reviews and Essays by AuthorID\u001b[39;00m\n",
      "File \u001b[0;32m~/Documents/IAP 2024/MSIP/CLIPS/code/utils.py:54\u001b[0m, in \u001b[0;36m__init__\u001b[0;34m(self)\u001b[0m\n\u001b[1;32m     52\u001b[0m reader \u001b[38;5;241m=\u001b[39m csv\u001b[38;5;241m.\u001b[39mreader(csv_file, delimiter\u001b[38;5;241m=\u001b[39mdelimiter)\n\u001b[1;32m     53\u001b[0m text_list \u001b[38;5;241m=\u001b[39m [\u001b[38;5;28mstr\u001b[39m(line) \u001b[38;5;28;01mfor\u001b[39;00m line \u001b[38;5;129;01min\u001b[39;00m reader]\n\u001b[0;32m---> 54\u001b[0m \u001b[38;5;28;01mreturn\u001b[39;00m text_list \u001b[38;5;28;01mif\u001b[39;00m as_list \u001b[38;5;28;01melse\u001b[39;00m \u001b[38;5;124m'\u001b[39m\u001b[38;5;124m \u001b[39m\u001b[38;5;124m'\u001b[39m\u001b[38;5;241m.\u001b[39mjoin(text_list)\n",
      "File \u001b[0;32m~/Documents/IAP 2024/MSIP/CLIPS/code/utils.py:64\u001b[0m, in \u001b[0;36mgenerate_reviews\u001b[0;34m(self)\u001b[0m\n\u001b[1;32m     61\u001b[0m     \u001b[38;5;28;01mwith\u001b[39;00m \u001b[38;5;28mopen\u001b[39m(output_file, \u001b[38;5;124m'\u001b[39m\u001b[38;5;124mw\u001b[39m\u001b[38;5;124m'\u001b[39m, encoding\u001b[38;5;241m=\u001b[39m\u001b[38;5;124m'\u001b[39m\u001b[38;5;124mlatin1\u001b[39m\u001b[38;5;124m'\u001b[39m) \u001b[38;5;28;01mas\u001b[39;00m json_file:\n\u001b[1;32m     62\u001b[0m         json_file\u001b[38;5;241m.\u001b[39mwrite(json_object)\n\u001b[0;32m---> 64\u001b[0m \u001b[38;5;28;01mdef\u001b[39;00m \u001b[38;5;21mload_json\u001b[39m(\u001b[38;5;28mself\u001b[39m, json_file):\n\u001b[1;32m     65\u001b[0m \u001b[38;5;250m    \u001b[39m\u001b[38;5;124;03m'''\u001b[39;00m\n\u001b[1;32m     66\u001b[0m \u001b[38;5;124;03m    Load json file found at parameters json_file.\u001b[39;00m\n\u001b[1;32m     67\u001b[0m \u001b[38;5;124;03m    '''\u001b[39;00m\n\u001b[1;32m     68\u001b[0m     \u001b[38;5;28;01mreturn\u001b[39;00m json\u001b[38;5;241m.\u001b[39mload(json_file)\n",
      "\u001b[0;31mValueError\u001b[0m: not enough values to unpack (expected 5, got 2)"
     ]
    }
   ],
   "source": [
    "# File Utilities \n",
    "data_loader = DataLoader()\n",
    "file_processor = FileProcessor()\n",
    "\n",
    "# Reviews and Essays by AuthorID\n",
    "reviews = file_processor.load_json(NEW_REVIEWS)\n",
    "essays = file_processor.load_json(NEW_ESSAYS)\n",
    "\n",
    "# Author and Document data by AuthorID\n",
    "authors = file_processor.load_json(NEW_AUTHOR_DATA)\n",
    "documents = file_processor.load_json(NEW_DOCUMENT_DATA)"
   ]
  }
 ],
 "metadata": {
  "kernelspec": {
   "display_name": "Python 3",
   "language": "python",
   "name": "python3"
  },
  "language_info": {
   "codemirror_mode": {
    "name": "ipython",
    "version": 3
   },
   "file_extension": ".py",
   "mimetype": "text/x-python",
   "name": "python",
   "nbconvert_exporter": "python",
   "pygments_lexer": "ipython3",
   "version": "3.11.4"
  }
 },
 "nbformat": 4,
 "nbformat_minor": 2
}
