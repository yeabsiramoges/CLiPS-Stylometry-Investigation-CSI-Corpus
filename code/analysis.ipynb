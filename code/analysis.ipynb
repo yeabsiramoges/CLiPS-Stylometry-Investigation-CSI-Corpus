{
 "cells": [
  {
   "cell_type": "code",
   "execution_count": 1,
   "metadata": {},
   "outputs": [],
   "source": [
    "from utils import *\n",
    "from constants import *"
   ]
  },
  {
   "cell_type": "code",
   "execution_count": 2,
   "metadata": {},
   "outputs": [
    {
     "name": "stdout",
     "output_type": "stream",
     "text": [
      "Instantiating Data Loader\n",
      "Instantiating File Processor\n",
      "Translator Instance Instantiated.\n",
      "Source: de\n",
      "Target: en\n",
      "Generating Reviews\n"
     ]
    },
    {
     "name": "stderr",
     "output_type": "stream",
     "text": [
      "  6%|▌         | 78/1299 [02:05<51:41,  2.54s/it]  "
     ]
    },
    {
     "name": "stdout",
     "output_type": "stream",
     "text": [
      "Empty sequence.\n"
     ]
    },
    {
     "name": "stderr",
     "output_type": "stream",
     "text": [
      " 14%|█▍        | 182/1299 [17:58<2:58:41,  9.60s/it]"
     ]
    }
   ],
   "source": [
    "# File Utilities \n",
    "data_loader = DataLoader()\n",
    "file_processor = FileProcessor()\n",
    "\n",
    "# Reviews and Essays by AuthorID\n",
    "reviews = file_processor.load_json(NEW_REVIEWS)\n",
    "essays = file_processor.load_json(NEW_ESSAYS)\n",
    "\n",
    "# Author and Document data by AuthorID\n",
    "authors = file_processor.load_json(NEW_AUTHOR_DATA)\n",
    "documents = file_processor.load_json(NEW_DOCUMENT_DATA)"
   ]
  }
 ],
 "metadata": {
  "kernelspec": {
   "display_name": "Python 3",
   "language": "python",
   "name": "python3"
  },
  "language_info": {
   "codemirror_mode": {
    "name": "ipython",
    "version": 3
   },
   "file_extension": ".py",
   "mimetype": "text/x-python",
   "name": "python",
   "nbconvert_exporter": "python",
   "pygments_lexer": "ipython3",
   "version": "3.11.4"
  }
 },
 "nbformat": 4,
 "nbformat_minor": 2
}
